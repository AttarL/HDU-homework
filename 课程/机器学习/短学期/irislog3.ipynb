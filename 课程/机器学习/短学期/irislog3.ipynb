{
 "cells": [
  {
   "cell_type": "code",
   "execution_count": 1,
   "id": "60c67f37-6fa4-4b97-9ba4-bf7283ca214f",
   "metadata": {},
   "outputs": [],
   "source": [
    "import os\n",
    "# os.environ['DEVICE_ID'] = '6'\n",
    "import csv\n",
    "import numpy as np\n",
    "import mindspore as ms\n",
    "from mindspore import nn\n",
    "from mindspore import context\n",
    "from mindspore import dataset\n",
    "from mindspore.train.callback import LossMonitor\n",
    "from mindspore.common.api import ms_function\n",
    "from mindspore.ops import operations as P\n",
    "context.set_context(mode=context.GRAPH_MODE, device_target=\"Ascend\")"
   ]
  },
  {
   "cell_type": "code",
   "execution_count": 2,
   "id": "db47a297-34c7-4117-8d2f-e5e603de3176",
   "metadata": {},
   "outputs": [],
   "source": [
    "with open('iris.txt') as csv_file:\n",
    " data = list(csv.reader(csv_file, delimiter=','))"
   ]
  },
  {
   "cell_type": "code",
   "execution_count": 3,
   "id": "beb60827-bd46-4fa8-9d9c-97962d6bcee6",
   "metadata": {},
   "outputs": [],
   "source": [
    "label_map = {\n",
    " 'Iris-setosa': 0,\n",
    " 'Iris-versicolor': 0.5,\n",
    " 'Iris-virginica': 1\n",
    "}\n",
    "X = np.array([[float(x) for x in s[:-1]] for s in data[:150]], np.float32)\n",
    "Y = np.array([[label_map[s[-1]]] for s in data[:150]], np.float32)"
   ]
  },
  {
   "cell_type": "code",
   "execution_count": 4,
   "id": "fc95939e-6e99-4a42-927f-8286e7f1f1d3",
   "metadata": {},
   "outputs": [
    {
     "data": {
      "text/plain": [
       "<matplotlib.legend.Legend at 0xffff383e0a90>"
      ]
     },
     "execution_count": 4,
     "metadata": {},
     "output_type": "execute_result"
    },
    {
     "data": {
      "image/png": "[encoded data removed]",
      "text/plain": [
       "<Figure size 432x288 with 1 Axes>"
      ]
     },
     "metadata": {
      "needs_background": "light"
     },
     "output_type": "display_data"
    }
   ],
   "source": [
    "from matplotlib import pyplot as plt\n",
    "plt.scatter(X[:50, 0], X[:50, 1], label='Iris-setosa')\n",
    "plt.scatter(X[50:100, 0], X[50:100, 1], label='Iris-versicolor')\n",
    "plt.scatter(X[101:, 0], X[101:, 1], label='Iris-versicolor')\n",
    "plt.xlabel('sepal length')\n",
    "plt.ylabel('sepal width')\n",
    "plt.legend()\n"
   ]
  },
  {
   "cell_type": "code",
   "execution_count": 5,
   "id": "80f90d76-8f02-48f3-bcbc-066cbe05f8c1",
   "metadata": {},
   "outputs": [],
   "source": [
    "train_idx = np.random.choice(100, 80, replace=False)\n",
    "test_idx = np.array(list(set(range(100)) - set(train_idx)))\n",
    "X_train, Y_train = X[train_idx], Y[train_idx]\n",
    "X_test, Y_test = X[test_idx], Y[test_idx]"
   ]
  },
  {
   "cell_type": "code",
   "execution_count": 6,
   "id": "98ab9ca4-c6cb-4ce8-8f86-68557e768394",
   "metadata": {},
   "outputs": [],
   "source": [
    "XY_train = list(zip(X_train, Y_train))\n",
    "XY_train_qie = XY_train[:80]\n",
    "ds_train = dataset.GeneratorDataset(XY_train_qie, ['x', 'y'])\n",
    "ds_train = ds_train.shuffle(buffer_size=80).batch(32, drop_remainder=True)"
   ]
  },
  {
   "cell_type": "code",
   "execution_count": 7,
   "id": "cfa3ea3a-913c-417c-bea4-9ecbde1b40a5",
   "metadata": {},
   "outputs": [
    {
     "data": {
      "text/plain": [
       "Text(0, 0.5, 'p')"
      ]
     },
     "execution_count": 7,
     "metadata": {},
     "output_type": "execute_result"
    },
    {
     "data": {
      "image/png": "[encoded data removed]",
      "text/plain": [
       "<Figure size 432x288 with 1 Axes>"
      ]
     },
     "metadata": {
      "needs_background": "light"
     },
     "output_type": "display_data"
    }
   ],
   "source": [
    "coor_x = np.arange(-10, 11, dtype=np.float32)\n",
    "coor_y = nn.Sigmoid()(ms.Tensor(coor_x)).asnumpy()\n",
    "plt.plot(coor_x, coor_y)\n",
    "plt.xlabel('x')\n",
    "plt.ylabel('p')\n"
   ]
  },
  {
   "cell_type": "code",
   "execution_count": 8,
   "id": "e7601474-d5bb-43ee-90e3-1c74cd362bf8",
   "metadata": {},
   "outputs": [],
   "source": [
    "# 自定义 Loss\n",
    "class Loss(nn.Cell):\n",
    "     def __init__(self):\n",
    "         super(Loss, self).__init__()\n",
    "         self.sigmoid_cross_entropy_with_logits = P.SigmoidCrossEntropyWithLogits()\n",
    "         self.reduce_mean = P.ReduceMean(keep_dims=False)\n",
    "     def construct(self, x, y):\n",
    "         loss = self.sigmoid_cross_entropy_with_logits(x, y)\n",
    "         return self.reduce_mean(loss, -1)\n",
    "net = nn.Dense(4, 1)\n",
    "loss = Loss()\n",
    "opt = nn.optim.SGD(net.trainable_params(), learning_rate=0.003)\n"
   ]
  },
  {
   "cell_type": "code",
   "execution_count": 9,
   "id": "d9cf6051-6d62-4069-bf89-bd54653154f3",
   "metadata": {},
   "outputs": [
    {
     "name": "stdout",
     "output_type": "stream",
     "text": [
      "epoch: 1 step: 2, loss is 0.639824390411377\n",
      "epoch: 2 step: 2, loss is 0.6168457269668579\n",
      "epoch: 3 step: 2, loss is 0.5673115253448486\n",
      "epoch: 4 step: 2, loss is 0.5135533809661865\n",
      "epoch: 5 step: 2, loss is 0.5261256098747253\n"
     ]
    }
   ],
   "source": [
    "model = ms.train.Model(net, loss, opt)\n",
    "model.train(5, ds_train, callbacks=[LossMonitor(per_print_times=ds_train.get_dataset_size())], \n",
    "dataset_sink_mode=False)"
   ]
  },
  {
   "cell_type": "code",
   "execution_count": 10,
   "id": "62e0fa02-3159-4847-b7fa-9de9f601fc6d",
   "metadata": {},
   "outputs": [
    {
     "name": "stdout",
     "output_type": "stream",
     "text": [
      "Test accuracy is 0.55\n"
     ]
    }
   ],
   "source": [
    "x = model.predict(ms.Tensor(X_test)).asnumpy()\n",
    "pred = np.round(1 / (1 + np.exp(-x)))\n",
    "correct = np.equal(pred, Y_test)\n",
    "acc = np.mean(correct)\n",
    "print('Test accuracy is', acc)\n"
   ]
  }
 ],
 "metadata": {
  "kernelspec": {
   "display_name": "MindSpore",
   "language": "python",
   "name": "mindspore"
  },
  "language_info": {
   "codemirror_mode": {
    "name": "ipython",
    "version": 3
   },
   "file_extension": ".py",
   "mimetype": "text/x-python",
   "name": "python",
   "nbconvert_exporter": "python",
   "pygments_lexer": "ipython3",
   "version": "3.7.6"
  }
 },
 "nbformat": 4,
 "nbformat_minor": 5
}

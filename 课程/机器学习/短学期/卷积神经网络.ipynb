{
 "cells": [
  {
   "cell_type": "code",
   "execution_count": 1,
   "id": "ed697a03-c01a-42d8-94b3-c265b25e8ed1",
   "metadata": {},
   "outputs": [],
   "source": [
    "import os\n",
    "import struct\n",
    "import sys\n",
    "from easydict import EasyDict as edict\n",
    "import matplotlib.pyplot as plt\n",
    "import numpy as np\n",
    "import mindspore\n",
    "import mindspore.dataset as ds\n",
    "import mindspore.nn as nn\n",
    "from mindspore import context\n",
    "from mindspore.nn.metrics import Accuracy\n",
    "from mindspore.train import Model\n",
    "from mindspore.train.callback import ModelCheckpoint, CheckpointConfig, LossMonitor, TimeMonitor\n",
    "from mindspore import Tensor\n",
    "context.set_context(mode=context.GRAPH_MODE, device_target='Ascend')"
   ]
  },
  {
   "cell_type": "code",
   "execution_count": 2,
   "id": "012829c5-821d-4f9f-a898-9a75c674540e",
   "metadata": {},
   "outputs": [],
   "source": [
    "cfg = edict({\n",
    " 'train_size': 60000, # 训练集大小\n",
    " 'test_size': 10000, # 测试集大小\n",
    " 'channel': 1, # 图片通道数\n",
    " 'image_height': 28, # 图片高度\n",
    "    'image_width': 28, # 图片宽度\n",
    " 'batch_size': 64,\n",
    " 'num_classes': 10, # 分类类别\n",
    " 'lr': 0.001, # 学习率\n",
    " 'epoch_size': 20, # 训练次数\n",
    " 'data_dir_train': os.path.join('fashion-mnist', 'train'),\n",
    " 'data_dir_test': os.path.join('fashion-mnist', 'test'),\n",
    "})\n"
   ]
  },
  {
   "cell_type": "code",
   "execution_count": 3,
   "id": "06bd38a7-47b7-4709-9523-8834e4f69ea2",
   "metadata": {},
   "outputs": [],
   "source": [
    "def read_image(file_name):\n",
    " '''\n",
    " :param file_name: 文件路径\n",
    " :return: 训练或者测试数据\n",
    " 如下是训练的图片的二进制格式\n",
    " [offset] [type] [value] [description]\n",
    " 0000 32 bit integer 0x00000803(2051) magic number\n",
    " 0004 32 bit integer 60000 number of images\n",
    " 0008 32 bit integer 28 number of rows\n",
    " 0012 32 bit integer 28 number of columns\n",
    " 0016 unsigned byte ?? pixel\n",
    " 0017 unsigned byte ?? pixel\n",
    " ........\n",
    " xxxx unsigned byte ?? pixel\n",
    " '''\n",
    " file_handle = open(file_name, \"rb\") # 以二进制打开文档\n",
    " file_content = file_handle.read() # 读取到缓冲区中\n",
    " head = struct.unpack_from('>IIII', file_content, 0) # 取前 4 个整数，返回一个元组\n",
    " offset = struct.calcsize('>IIII')\n",
    " imgNum = head[1] # 图片数\n",
    " width = head[2] # 宽度\n",
    " height = head[3] # 高度\n",
    " bits = imgNum * width * height # data 一共有 60000*28*28 个像素值\n",
    " bitsString = '>' + str(bits) + 'B' # fmt 格式：'>47040000B'\n",
    " imgs = struct.unpack_from(bitsString, file_content, offset) # 取 data 数据，返回一个元组\n",
    " imgs_array = np.array(imgs, np.float32).reshape((imgNum, width * height)) \n",
    "# 最后将读取的数据 reshape 成 【图片数，图片像素】二维数组\n",
    " return imgs_array\n",
    "def read_label(file_name):\n",
    " '''\n",
    " :param file_name:\n",
    " :return:\n",
    " 标签的格式如下：\n",
    " [offset] [type] [value] [description]\n",
    " 0000 32 bit integer 0x00000801(2049) magic number (MSB first)\n",
    " 0004 32 bit integer 60000 number of items\n",
    " 0008 unsigned byte ?? label\n",
    " 0009 unsigned byte ?? label\n",
    " ........\n",
    " xxxx unsigned byte ?? label\n",
    " The labels values are 0 to 9.\n",
    " '''\n",
    " file_handle = open(file_name, \"rb\") # 以二进制打开文档\n",
    " file_content = file_handle.read() # 读取到缓冲区中\n",
    " head = struct.unpack_from('>II', file_content, 0) # 取前 2 个整数，返回一个元组\n",
    " offset = struct.calcsize('>II')\n",
    " labelNum = head[1] # label 数\n",
    " bitsString = '>' + str(labelNum) + 'B' # fmt 格式：'>47040000B'\n",
    " label = struct.unpack_from(bitsString, file_content, offset) # 取 data 数据，返回一个元组\n",
    " return np.array(label, np.int32)\n",
    "def get_data():\n",
    " # 文件获取\n",
    " train_image = os.path.join(cfg.data_dir_train, 'train-images-idx3-ubyte')\n",
    " test_image = os.path.join(cfg.data_dir_test, \"t10k-images-idx3-ubyte\")\n",
    " train_label = os.path.join(cfg.data_dir_train, \"train-labels-idx1-ubyte\")\n",
    " test_label = os.path.join(cfg.data_dir_test, \"t10k-labels-idx1-ubyte\")\n",
    " # 读取数据\n",
    " train_x = read_image(train_image)\n",
    " test_x = read_image(test_image)\n",
    " train_y = read_label(train_label)\n",
    " test_y = read_label(test_label)\n",
    " return train_x, train_y, test_x, test_y"
   ]
  },
  {
   "cell_type": "code",
   "execution_count": 4,
   "id": "4ecb0624-a206-474b-8734-2f72909120b8",
   "metadata": {},
   "outputs": [
    {
     "name": "stdout",
     "output_type": "stream",
     "text": [
      "训练数据集样本数： 60000\n",
      "测试数据集样本数： 10000\n",
      "通道数/图像长/宽： (1, 28, 28)\n",
      "一张图像的标签样式： 9\n"
     ]
    },
    {
     "data": {
      "image/png": "[encoded data removed]",
      "text/plain": [
       "<Figure size 432x288 with 2 Axes>"
      ]
     },
     "metadata": {
      "needs_background": "light"
     },
     "output_type": "display_data"
    }
   ],
   "source": [
    "train_x, train_y, test_x, test_y = get_data()\n",
    "train_x = train_x.reshape(-1, 1, cfg.image_height, cfg.image_width)\n",
    "test_x = test_x.reshape(-1, 1, cfg.image_height, cfg.image_width)\n",
    "train_x = train_x / 255.0\n",
    "test_x = test_x / 255.0\n",
    "print('训练数据集样本数：', train_x.shape[0])\n",
    "print('测试数据集样本数：', test_y.shape[0])\n",
    "print('通道数/图像长/宽：', train_x.shape[1:])\n",
    "print('一张图像的标签样式：', train_y[0]) # 一共 10 类，用 0-9 的数字表达类别。\n",
    "plt.figure()\n",
    "plt.imshow(train_x[0,0,...])\n",
    "plt.colorbar()\n",
    "plt.grid(False)\n",
    "plt.show()"
   ]
  },
  {
   "cell_type": "code",
   "execution_count": 5,
   "id": "0eaf115a-88cf-4cbc-b64f-13d10559f888",
   "metadata": {},
   "outputs": [],
   "source": [
    "# 转换数据类型为 Dataset\n",
    "def create_dataset():\n",
    " XY_train = list(zip(train_x, train_y))\n",
    " ds_train = ds.GeneratorDataset(XY_train, ['x', 'y'])\n",
    " ds_train = ds_train.shuffle(buffer_size=1000).batch(cfg.batch_size, \n",
    "drop_remainder=True)\n",
    " XY_test = list(zip(test_x, test_y))\n",
    " ds_test = ds.GeneratorDataset(XY_test, ['x', 'y'])\n",
    " ds_test = ds_test.shuffle(buffer_size=1000).batch(cfg.batch_size, \n",
    "drop_remainder=True)\n",
    " return ds_train, ds_test"
   ]
  },
  {
   "cell_type": "code",
   "execution_count": 6,
   "id": "a5ee461f-ccaa-4185-9e98-7a63feb152e6",
   "metadata": {},
   "outputs": [],
   "source": [
    "# 定义卷积神经网络，无正则化\n",
    "class ForwardFashion(nn.Cell):\n",
    " def __init__(self, num_class=10): # 一共分十类，图片通道数是 1\n",
    "  super(ForwardFashion, self).__init__()\n",
    "  self.num_class = num_class\n",
    "  self.conv1 = nn.Conv2d(1, 32,kernel_size=3, stride=1, padding=0, has_bias=False, pad_mode=\"valid\")\n",
    "  self.conv2 = nn.Conv2d(32, 64,kernel_size=3, stride=1, padding=0, has_bias=False, pad_mode=\"valid\")\n",
    "  self.conv3 = nn.Conv2d(64, 128,kernel_size=3, stride=1, padding=0, has_bias=False, pad_mode=\"valid\")\n",
    "  self.maxpool2d = nn.MaxPool2d(kernel_size=2, stride=2)\n",
    "  self.relu = nn.ReLU()\n",
    "  self.flatten = nn.Flatten()\n",
    "  self.fc1 = nn.Dense(128 * 11 * 11, 128)\n",
    "  self.fc2 = nn.Dense(128, self.num_class)\n",
    " def construct(self, x):\n",
    "  x = self.conv1(x)\n",
    "  x = self.relu(x)\n",
    "  x = self.conv2(x)\n",
    "  x = self.relu(x)\n",
    "  x = self.conv3(x)\n",
    "  x = self.relu(x)\n",
    "  x = self.maxpool2d(x)\n",
    "  x = self.flatten(x)\n",
    "  x = self.fc1(x)\n",
    "  x = self.relu(x)\n",
    "  x = self.fc2(x)\n",
    "  return x"
   ]
  },
  {
   "cell_type": "code",
   "execution_count": 7,
   "id": "46247f97-f8a6-4f96-aab0-48571c8d0c9e",
   "metadata": {},
   "outputs": [],
   "source": [
    "# 定义卷积神经网络，有正则化\n",
    "class ForwardFashionRegularization(nn.Cell):\n",
    "    def __init__(self, num_class=10): # 一共分十类，图片通道数是 1\n",
    "        super(ForwardFashionRegularization, self).__init__()\n",
    "        self.num_class = num_class\n",
    "        self.conv1 = nn.Conv2d(1, 32,kernel_size=3, stride=1, padding=0, has_bias=False, pad_mode=\"valid\")\n",
    "        self.conv2 = nn.Conv2d(32, 64,kernel_size=3, stride=1, padding=0, has_bias=False, pad_mode=\"valid\")\n",
    "        self.conv3 = nn.Conv2d(64, 128,kernel_size=3, stride=1, padding=0, has_bias=False, pad_mode=\"valid\")\n",
    "        self.maxpool2d = nn.MaxPool2d(kernel_size=2, stride=2)\n",
    "        self.relu = nn.ReLU()\n",
    "        self.dropout = nn.Dropout()\n",
    "        self.flatten = nn.Flatten()\n",
    "        self.fc1 = nn.Dense(3200, 128)\n",
    "        self.bn = nn.BatchNorm1d(128)\n",
    "        self.fc2 = nn.Dense(128, self.num_class)\n",
    "    def construct(self, x):\n",
    "        x = self.conv1(x)\n",
    "        x = self.relu(x)\n",
    "        x = self.conv2(x)\n",
    "        x = self.relu(x)\n",
    "        x = self.maxpool2d(x)\n",
    "        x = self.dropout(x)\n",
    "        x = self.conv3(x)\n",
    "        x = self.relu(x)\n",
    "        x = self.maxpool2d(x)\n",
    "        x = self.dropout(x)\n",
    "        x = self.flatten(x)\n",
    "        x = self.fc1(x)\n",
    "        x = self.relu(x)\n",
    "        x = self.bn(x)\n",
    "        x = self.dropout(x)\n",
    "        x = self.fc2(x)\n",
    "        return x\n"
   ]
  },
  {
   "cell_type": "code",
   "execution_count": 8,
   "id": "0e7f64c5-1104-460a-94b6-e2177bc0db44",
   "metadata": {},
   "outputs": [],
   "source": [
    "def train(Net):\n",
    "    ds_train, ds_test = create_dataset()\n",
    " # 构建网络\n",
    "    network = Net(cfg.num_classes)\n",
    " # 定义模型的损失函数，优化器\n",
    "    net_loss = nn.SoftmaxCrossEntropyWithLogits(sparse=True, reduction=\"mean\")\n",
    "    net_opt = nn.Adam(network.trainable_params(), cfg.lr)\n",
    " # 训练模型\n",
    "    model = Model(network, loss_fn=net_loss, optimizer=net_opt, metrics={'acc': Accuracy()})\n",
    "    loss_cb = LossMonitor()\n",
    "    print(\"============== Starting Training ==============\")\n",
    "    model.train(30, ds_train, callbacks=[loss_cb], dataset_sink_mode=True)\n",
    " # 验证\n",
    "    metric = model.eval(ds_test)\n",
    "    print(metric)\n",
    "    return model"
   ]
  },
  {
   "cell_type": "code",
   "execution_count": 9,
   "id": "f5d25cce-8689-43a6-a19b-ae8f7c5460c0",
   "metadata": {},
   "outputs": [
    {
     "name": "stdout",
     "output_type": "stream",
     "text": [
      "============== Starting Training ==============\n",
      "epoch: 1 step: 937, loss is 0.3344201445579529\n",
      "epoch: 2 step: 937, loss is 0.2689235508441925\n",
      "epoch: 3 step: 937, loss is 0.18394631147384644\n",
      "epoch: 4 step: 937, loss is 0.17498475313186646\n",
      "epoch: 5 step: 937, loss is 0.23030441999435425\n",
      "epoch: 6 step: 937, loss is 0.27919113636016846\n",
      "epoch: 7 step: 937, loss is 0.034674741327762604\n",
      "epoch: 8 step: 937, loss is 0.10159452259540558\n",
      "epoch: 9 step: 937, loss is 0.17314723134040833\n",
      "epoch: 10 step: 937, loss is 0.10550688207149506\n",
      "epoch: 11 step: 937, loss is 0.11099457740783691\n",
      "epoch: 12 step: 937, loss is 0.09299320727586746\n",
      "epoch: 13 step: 937, loss is 0.006471050437539816\n",
      "epoch: 14 step: 937, loss is 0.07411222159862518\n",
      "epoch: 15 step: 937, loss is 0.03250378742814064\n",
      "epoch: 16 step: 937, loss is 0.0021490901708602905\n",
      "epoch: 17 step: 937, loss is 0.07589889317750931\n",
      "epoch: 18 step: 937, loss is 0.004510070197284222\n",
      "epoch: 19 step: 937, loss is 0.0029475258197635412\n",
      "epoch: 20 step: 937, loss is 0.02523457631468773\n",
      "epoch: 21 step: 937, loss is 0.0009685085387900472\n",
      "epoch: 22 step: 937, loss is 0.009620645083487034\n",
      "epoch: 23 step: 937, loss is 0.0026538586243987083\n",
      "epoch: 24 step: 937, loss is 0.00018907153571490198\n",
      "epoch: 25 step: 937, loss is 0.005125931464135647\n",
      "epoch: 26 step: 937, loss is 4.791560422745533e-05\n",
      "epoch: 27 step: 937, loss is 0.0001588099985383451\n",
      "epoch: 28 step: 937, loss is 4.624505163519643e-05\n",
      "epoch: 29 step: 937, loss is 0.0011240114690735936\n",
      "epoch: 30 step: 937, loss is 3.300734533695504e-06\n",
      "{'acc': 0.9066506410256411}\n"
     ]
    }
   ],
   "source": [
    "# 训练无正则化的网络\n",
    "model = train(ForwardFashion)"
   ]
  },
  {
   "cell_type": "code",
   "execution_count": 10,
   "id": "13bff675-f3d1-48eb-80b0-99cccb99f7ba",
   "metadata": {},
   "outputs": [
    {
     "name": "stdout",
     "output_type": "stream",
     "text": [
      "============== Starting Training ==============\n"
     ]
    },
    {
     "name": "stderr",
     "output_type": "stream",
     "text": [
      "[WARNING] DEVICE(5253,ffff9868e780,python):2023-04-26-19:04:15.672.476 [mindspore/ccsrc/plugin/device/ascend/hal/device/kernel_select_ascend.cc:330] FilterRaisedOrReducePrecisionMatchedKernelInfo] Operator:[DropoutGenMask] don't support int64, reduce precision from int64 to int32.\n",
      "[WARNING] DEVICE(5253,ffff9868e780,python):2023-04-26-19:04:15.682.979 [mindspore/ccsrc/plugin/device/ascend/hal/device/kernel_select_ascend.cc:330] FilterRaisedOrReducePrecisionMatchedKernelInfo] Operator:[DropoutGenMask] don't support int64, reduce precision from int64 to int32.\n",
      "[WARNING] DEVICE(5253,ffff9868e780,python):2023-04-26-19:04:15.689.592 [mindspore/ccsrc/plugin/device/ascend/hal/device/kernel_select_ascend.cc:330] FilterRaisedOrReducePrecisionMatchedKernelInfo] Operator:[DropoutGenMask] don't support int64, reduce precision from int64 to int32.\n"
     ]
    },
    {
     "name": "stdout",
     "output_type": "stream",
     "text": [
      "epoch: 1 step: 937, loss is 0.3667970299720764\n",
      "epoch: 2 step: 937, loss is 0.22414608299732208\n",
      "epoch: 3 step: 937, loss is 0.27774012088775635\n",
      "epoch: 4 step: 937, loss is 0.2107868790626526\n",
      "epoch: 5 step: 937, loss is 0.34461814165115356\n",
      "epoch: 6 step: 937, loss is 0.30979910492897034\n",
      "epoch: 7 step: 937, loss is 0.2601698935031891\n",
      "epoch: 8 step: 937, loss is 0.3264274597167969\n",
      "epoch: 9 step: 937, loss is 0.2099684178829193\n",
      "epoch: 10 step: 937, loss is 0.28509652614593506\n",
      "epoch: 11 step: 937, loss is 0.2969682216644287\n",
      "epoch: 12 step: 937, loss is 0.46438682079315186\n",
      "epoch: 13 step: 937, loss is 0.34476515650749207\n",
      "epoch: 14 step: 937, loss is 0.3082510530948639\n",
      "epoch: 15 step: 937, loss is 0.1348818838596344\n",
      "epoch: 16 step: 937, loss is 0.355733186006546\n",
      "epoch: 17 step: 937, loss is 0.1296483427286148\n",
      "epoch: 18 step: 937, loss is 0.27990639209747314\n",
      "epoch: 19 step: 937, loss is 0.21178963780403137\n",
      "epoch: 20 step: 937, loss is 0.24720506370067596\n",
      "epoch: 21 step: 937, loss is 0.2225550413131714\n",
      "epoch: 22 step: 937, loss is 0.295540988445282\n",
      "epoch: 23 step: 937, loss is 0.1447053998708725\n",
      "epoch: 24 step: 937, loss is 0.1368231177330017\n",
      "epoch: 25 step: 937, loss is 0.18937988579273224\n",
      "epoch: 26 step: 937, loss is 0.25957369804382324\n",
      "epoch: 27 step: 937, loss is 0.24443450570106506\n",
      "epoch: 28 step: 937, loss is 0.19337105751037598\n",
      "epoch: 29 step: 937, loss is 0.07272893935441971\n",
      "epoch: 30 step: 937, loss is 0.22820043563842773\n",
      "{'acc': 0.9239783653846154}\n"
     ]
    }
   ],
   "source": [
    "# 训练有正则化的网络\n",
    "model = train(ForwardFashionRegularization)"
   ]
  },
  {
   "cell_type": "code",
   "execution_count": 11,
   "id": "6d1eb643-d594-4a4b-9b79-a0c4068e2c5d",
   "metadata": {},
   "outputs": [
    {
     "name": "stdout",
     "output_type": "stream",
     "text": [
      "第0个 sample 预测结果： 5  真实结果： 5\n",
      "第1个 sample 预测结果： 4  真实结果： 4\n",
      "第2个 sample 预测结果： 9  真实结果： 9\n",
      "第3个 sample 预测结果： 6  真实结果： 6\n",
      "第4个 sample 预测结果： 3  真实结果： 3\n",
      "第5个 sample 预测结果： 0  真实结果： 0\n",
      "第6个 sample 预测结果： 4  真实结果： 4\n",
      "第7个 sample 预测结果： 9  真实结果： 9\n",
      "第8个 sample 预测结果： 1  真实结果： 1\n",
      "第9个 sample 预测结果： 9  真实结果： 9\n",
      "第10个 sample 预测结果： 4  真实结果： 4\n",
      "第11个 sample 预测结果： 6  真实结果： 6\n",
      "第12个 sample 预测结果： 2  真实结果： 2\n",
      "第13个 sample 预测结果： 7  真实结果： 7\n",
      "第14个 sample 预测结果： 0  真实结果： 0\n"
     ]
    }
   ],
   "source": [
    "# 预测\n",
    "ds_test, _ = create_dataset()\n",
    "test_ = ds_test.create_dict_iterator(output_numpy=True).__next__()\n",
    "predictions = model.predict(Tensor(test_['x']))\n",
    "predictions = predictions.asnumpy()\n",
    "for i in range(15):\n",
    "    p_np = predictions[i, :]\n",
    "    p_list = p_np.tolist()\n",
    "    print('第' + str(i) + '个 sample 预测结果：', p_list.index(max(p_list)), ' 真实结果：', test_['y'][i])"
   ]
  },
  {
   "cell_type": "code",
   "execution_count": 20,
   "id": "3515b6f2-9651-4a05-b0fd-af59ebf6028a",
   "metadata": {},
   "outputs": [],
   "source": [
    "# -------------------定义可视化函数--------------------------------\n",
    "# 输入预测结果序列，真实标签序列，以及图片序列\n",
    "# 预测\n",
    "# 目标是根据预测值对错，让其标签显示为红色或者蓝色。对：标签为红色；错：标签为蓝色\n",
    "import numpy as np\n",
    "def plot_image(predictions_array, true_label, img):\n",
    "    plt.grid(False)\n",
    "    plt.xticks([])\n",
    "    plt.yticks([])\n",
    " # 显示对应图片\n",
    "    plt.imshow(img, cmap=plt.cm.binary)\n",
    " # 显示预测结果的颜色，如果对上了是蓝色，否则为红色\n",
    "    predicted_label = np.argmax(predictions_array)\n",
    "    if predicted_label == true_label:\n",
    "        color = 'blue'\n",
    "    else:\n",
    "        color = 'red'\n",
    " # 显示对应标签的格式，样式\n",
    "    plt.xlabel('{},{:2.0f}% ({})'.format(class_names[predicted_label],100 * np.max(predictions_array),class_names[true_label]), color=color)\n",
    "# 将预测的结果以柱状图形状显示蓝对红错\n",
    "def plot_value_array(predictions_array, true_label):\n",
    "    plt.grid(False)\n",
    "    plt.xticks([])\n",
    "    plt.yticks([])\n",
    "    this_plot = plt.bar(range(10), predictions_array, color='#777777')\n",
    "    plt.ylim([0, 1])\n",
    "    predicted_label = np.argmax(predictions_array)\n",
    "    this_plot[predicted_label].set_color('red')\n",
    "    this_plot[true_label].set_color('blue')\n",
    "\n",
    "def softmax_np(x):\n",
    "    x = x - np.max(x)\n",
    "    exp_x = np.exp(x)\n",
    "    softmax_x = exp_x/np.sum(exp_x)\n",
    "    return softmax_x"
   ]
  },
  {
   "cell_type": "code",
   "execution_count": 21,
   "id": "de23174f-8a94-43c0-b6aa-5a25d6a8bef0",
   "metadata": {},
   "outputs": [
    {
     "data": {
      "image/png": "[encoded data removed]",
      "text/plain": [
       "<Figure size 864x720 with 30 Axes>"
      ]
     },
     "metadata": {},
     "output_type": "display_data"
    }
   ],
   "source": [
    "# 预测 15 个图像与标签，并展现出来\n",
    "num_rows = 5\n",
    "num_cols = 3\n",
    "num_images = num_rows * num_cols\n",
    "plt.figure(figsize=(2 * 2 * num_cols, 2 * num_rows))\n",
    "class_names = ['T-shirt/top', 'Trouser', 'Pullover', 'Dress', 'Coat',\n",
    " 'Sandal', 'Shirt', 'Sneaker', 'Bag', 'Ankle boot']\n",
    "for i in range(num_images):\n",
    "     plt.subplot(num_rows, 2 * num_cols, 2 * i + 1)\n",
    "     pred_np_ = predictions[i, :]\n",
    "     pred_np_ = softmax_np(pred_np_)\n",
    "     plot_image(pred_np_, test_['y'][i], test_['x'][i, 0, ...])\n",
    "     plt.subplot(num_rows, 2 * num_cols, 2 * i + 2)\n",
    "     plot_value_array(pred_np_, test_['y'][i])\n",
    "plt.show()"
   ]
  }
 ],
 "metadata": {
  "kernelspec": {
   "display_name": "MindSpore",
   "language": "python",
   "name": "mindspore"
  },
  "language_info": {
   "codemirror_mode": {
    "name": "ipython",
    "version": 3
   },
   "file_extension": ".py",
   "mimetype": "text/x-python",
   "name": "python",
   "nbconvert_exporter": "python",
   "pygments_lexer": "ipython3",
   "version": "3.7.6"
  }
 },
 "nbformat": 4,
 "nbformat_minor": 5
}

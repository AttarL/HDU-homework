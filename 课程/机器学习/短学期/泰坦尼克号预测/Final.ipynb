{
 "cells": [
  {
   "cell_type": "code",
   "execution_count": 1,
   "id": "b488215a",
   "metadata": {},
   "outputs": [],
   "source": [
    "import pandas as pd\n",
    "import numpy as np\n",
    "import matplotlib.pyplot as plt\n",
    "import seaborn as sns"
   ]
  },
  {
   "cell_type": "code",
   "execution_count": 2,
   "id": "b476f080",
   "metadata": {},
   "outputs": [],
   "source": [
    "#test= pd.read_csv('dfless.csv')\n",
    "test= pd.read_csv('newdf.csv')"
   ]
  },
  {
   "cell_type": "code",
   "execution_count": 3,
   "id": "d56e0abd",
   "metadata": {},
   "outputs": [
    {
     "data": {
      "text/plain": [
       "(418, 8)"
      ]
     },
     "execution_count": 3,
     "metadata": {},
     "output_type": "execute_result"
    }
   ],
   "source": [
    "test=test.drop(['PassengerId','Unnamed: 0'], axis=1)\n",
    "#test=test.drop(['Embarked','Age','Family','Fare'],axis=1)\n",
    "test.shape"
   ]
  },
  {
   "cell_type": "markdown",
   "id": "610a0daf",
   "metadata": {},
   "source": [
    "1. pipeline"
   ]
  },
  {
   "cell_type": "code",
   "execution_count": 4,
   "id": "0425eb18",
   "metadata": {},
   "outputs": [],
   "source": [
    "# #mport pickle\n",
    "# #s=pickle.dumps(pipeline)\n",
    "# import joblib\n",
    "# #joblib.dump(pipeline, 'newpipeline.pkl')\n",
    "# pipeline = joblib.load('newpipeline.pkl')\n",
    "# #print(clf3.predict(X[0:1]))  # 输出[0]\n",
    "# predictions = pipeline.predict(test)"
   ]
  },
  {
   "cell_type": "markdown",
   "id": "8c5b8fc3",
   "metadata": {},
   "source": [
    "2. rfc"
   ]
  },
  {
   "cell_type": "code",
   "execution_count": 5,
   "id": "5ee724d7",
   "metadata": {},
   "outputs": [],
   "source": [
    "# import pickle\n",
    "# #s=pickle.dumps(pipeline)\n",
    "# import joblib\n",
    "# #joblib.dump(pipeline, 'newpipeline.pkl')\n",
    "# rfc = joblib.load('newrfcless.pkl')\n",
    "# #print(clf3.predict(X[0:1]))  # 输出[0]\n",
    "# predictions = rfc.predict(test)"
   ]
  },
  {
   "cell_type": "markdown",
   "id": "78af8b49",
   "metadata": {},
   "source": [
    "3.knn"
   ]
  },
  {
   "cell_type": "code",
   "execution_count": 6,
   "id": "565bea3e",
   "metadata": {},
   "outputs": [],
   "source": [
    "import joblib\n",
    "#joblib.dump(pipeline, 'newpipeline.pkl')\n",
    "knn = joblib.load('newknn.pkl')\n",
    "#print(clf3.predict(X[0:1]))  # 输出[0]\n",
    "predictions = knn.predict(test)"
   ]
  },
  {
   "cell_type": "markdown",
   "id": "1ba065dc",
   "metadata": {},
   "source": [
    "4.pytorch ( load不进来直接走分类器了）"
   ]
  },
  {
   "cell_type": "code",
   "execution_count": 7,
   "id": "b98bc7f0",
   "metadata": {},
   "outputs": [],
   "source": [
    "# import torch\n",
    "# import torch.nn as nn\n",
    "# from torch.nn import functional as F\n",
    "# from torch.autograd import Variable\n",
    "\n",
    "# #thank you very much https://www.kaggle.com/mburakergenc/ttianic-minimal-pytorch-mlp\n",
    "# class Net(nn.Module):\n",
    "#     def __init__(self):\n",
    "#         super(Net, self).__init__()\n",
    "#         self.fc1 = nn.Linear(8, 512)\n",
    "#         self.fc2 = nn.Linear(512, 512)\n",
    "#         self.fc3 = nn.Linear(512, 2)\n",
    "#         self.dropout = nn.Dropout(0.2)\n",
    "        \n",
    "#     def forward(self, x):\n",
    "#         x = F.relu(self.fc1(x))\n",
    "#         x = self.dropout(x)\n",
    "#         x = F.relu(self.fc2(x))\n",
    "#         x = self.dropout(x)\n",
    "#         x = self.fc3(x)\n",
    "#         return x\n",
    "# model = Net()\n",
    "# print(model)\n",
    "\n",
    "# #model = TheModelClass(*args, **kwargs)\n",
    "# model = torch.load('nn.pth')\n",
    "# model.eval()"
   ]
  },
  {
   "cell_type": "code",
   "execution_count": 8,
   "id": "95bab350",
   "metadata": {},
   "outputs": [],
   "source": [
    "# from sklearn.preprocessing import StandardScaler\n",
    "# Scaler2 = StandardScaler()\n",
    "\n",
    "# df_test  = pd.DataFrame(Scaler2.fit_transform(df_test))\n",
    "# X_test     = df_test.iloc[:,1:].values\n",
    "# X_test_var = Variable(torch.FloatTensor(X_test), requires_grad=False) \n",
    "# with torch.no_grad():\n",
    "#     test_result = model(X_test_var)\n",
    "# values, labels = torch.max(test_result, 1)\n",
    "# survived = labels.data.numpy()"
   ]
  },
  {
   "cell_type": "markdown",
   "id": "4ce755c9",
   "metadata": {},
   "source": [
    "5. 怪东西"
   ]
  },
  {
   "cell_type": "code",
   "execution_count": 9,
   "id": "30d38a01",
   "metadata": {},
   "outputs": [],
   "source": [
    "#test.head()"
   ]
  },
  {
   "cell_type": "code",
   "execution_count": 10,
   "id": "f0568db2",
   "metadata": {},
   "outputs": [],
   "source": [
    "# test['Survived']=0\n",
    "# test.loc[test['Sex'] ==1 , 'Survived'] = 1\n",
    "# test.loc[test['Age']>60,'Survived']=0\n",
    "# test.loc[test['Title'] >=3 , 'Survived'] = 1\n",
    "# test.loc[test['Fare'] >80 , 'Survived'] = 1\n",
    "# test.loc[(test['Fare']<10),'Survived']=0\n",
    "# submission = pd.DataFrame({'PassengerID' : test.index+892 , 'Survived': test['Survived']})\n",
    "# submission.to_csv('submission.csv',index = False)"
   ]
  },
  {
   "cell_type": "code",
   "execution_count": 11,
   "id": "0e2fbaf6",
   "metadata": {},
   "outputs": [],
   "source": [
    "submission = pd.DataFrame({'PassengerID' : test.index+892 , 'Survived': predictions.astype(np.int32)})\n",
    "submission.to_csv('knnsubmission.csv',index = False)"
   ]
  }
 ],
 "metadata": {
  "kernelspec": {
   "display_name": "Python 3",
   "language": "python",
   "name": "python3"
  },
  "language_info": {
   "codemirror_mode": {
    "name": "ipython",
    "version": 3
   },
   "file_extension": ".py",
   "mimetype": "text/x-python",
   "name": "python",
   "nbconvert_exporter": "python",
   "pygments_lexer": "ipython3",
   "version": "3.8.8"
  }
 },
 "nbformat": 4,
 "nbformat_minor": 5
}

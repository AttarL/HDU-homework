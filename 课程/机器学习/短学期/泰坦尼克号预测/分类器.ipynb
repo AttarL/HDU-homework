{
 "cells": [
  {
   "cell_type": "code",
   "execution_count": 1,
   "id": "21269b14",
   "metadata": {},
   "outputs": [],
   "source": [
    "import pandas as pd\n",
    "import numpy as np\n",
    "import matplotlib.pyplot as plt\n",
    "import seaborn as sns"
   ]
  },
  {
   "cell_type": "code",
   "execution_count": 2,
   "id": "19206723",
   "metadata": {},
   "outputs": [],
   "source": [
    "# machine learning\n",
    "from sklearn.linear_model import LogisticRegression\n",
    "from sklearn.svm import SVC, LinearSVC\n",
    "from sklearn.ensemble import RandomForestClassifier\n",
    "from sklearn.neighbors import KNeighborsClassifier\n",
    "from sklearn.naive_bayes import GaussianNB\n",
    "from sklearn.linear_model import Perceptron\n",
    "from sklearn.linear_model import SGDClassifier\n",
    "from sklearn.tree import DecisionTreeClassifier\n",
    "\n",
    "from sklearn.pipeline import Pipeline\n",
    "from sklearn.model_selection import  GridSearchCV\n",
    "from sklearn.feature_selection import SelectKBest\n",
    "from warnings import simplefilter\n",
    "simplefilter(action='ignore', category=FutureWarning)\n"
   ]
  },
  {
   "cell_type": "code",
   "execution_count": 7,
   "id": "4e6db6bc",
   "metadata": {},
   "outputs": [
    {
     "ename": "FileNotFoundError",
     "evalue": "[Errno 2] No such file or directory: 'trainless.csv'",
     "output_type": "error",
     "traceback": [
      "\u001b[1;31m---------------------------------------------------------------------------\u001b[0m",
      "\u001b[1;31mFileNotFoundError\u001b[0m                         Traceback (most recent call last)",
      "\u001b[1;32m<ipython-input-7-06473b6d2f38>\u001b[0m in \u001b[0;36m<module>\u001b[1;34m\u001b[0m\n\u001b[1;32m----> 1\u001b[1;33m \u001b[0mtrain_df\u001b[0m \u001b[1;33m=\u001b[0m \u001b[0mpd\u001b[0m\u001b[1;33m.\u001b[0m\u001b[0mread_csv\u001b[0m\u001b[1;33m(\u001b[0m\u001b[1;34m'trainless.csv'\u001b[0m\u001b[1;33m)\u001b[0m\u001b[1;33m\u001b[0m\u001b[1;33m\u001b[0m\u001b[0m\n\u001b[0m\u001b[0;32m      2\u001b[0m \u001b[1;31m# test_df = pd.read_csv('testless.csv')\u001b[0m\u001b[1;33m\u001b[0m\u001b[1;33m\u001b[0m\u001b[1;33m\u001b[0m\u001b[0m\n\u001b[0;32m      3\u001b[0m \u001b[0mY_test\u001b[0m\u001b[1;33m=\u001b[0m\u001b[0mpd\u001b[0m\u001b[1;33m.\u001b[0m\u001b[0mread_csv\u001b[0m\u001b[1;33m(\u001b[0m\u001b[1;34m'test_local_label.csv'\u001b[0m\u001b[1;33m)\u001b[0m\u001b[1;33m\u001b[0m\u001b[1;33m\u001b[0m\u001b[0m\n\u001b[0;32m      4\u001b[0m \u001b[1;31m#train_df = pd.read_csv('newtrain.csv')\u001b[0m\u001b[1;33m\u001b[0m\u001b[1;33m\u001b[0m\u001b[1;33m\u001b[0m\u001b[0m\n\u001b[0;32m      5\u001b[0m \u001b[1;31m#test_df = pd.read_csv('newtest.csv')\u001b[0m\u001b[1;33m\u001b[0m\u001b[1;33m\u001b[0m\u001b[1;33m\u001b[0m\u001b[0m\n",
      "\u001b[1;32mD:\\anaconda\\lib\\site-packages\\pandas\\io\\parsers.py\u001b[0m in \u001b[0;36mread_csv\u001b[1;34m(filepath_or_buffer, sep, delimiter, header, names, index_col, usecols, squeeze, prefix, mangle_dupe_cols, dtype, engine, converters, true_values, false_values, skipinitialspace, skiprows, skipfooter, nrows, na_values, keep_default_na, na_filter, verbose, skip_blank_lines, parse_dates, infer_datetime_format, keep_date_col, date_parser, dayfirst, cache_dates, iterator, chunksize, compression, thousands, decimal, lineterminator, quotechar, quoting, doublequote, escapechar, comment, encoding, dialect, error_bad_lines, warn_bad_lines, delim_whitespace, low_memory, memory_map, float_precision, storage_options)\u001b[0m\n\u001b[0;32m    608\u001b[0m     \u001b[0mkwds\u001b[0m\u001b[1;33m.\u001b[0m\u001b[0mupdate\u001b[0m\u001b[1;33m(\u001b[0m\u001b[0mkwds_defaults\u001b[0m\u001b[1;33m)\u001b[0m\u001b[1;33m\u001b[0m\u001b[1;33m\u001b[0m\u001b[0m\n\u001b[0;32m    609\u001b[0m \u001b[1;33m\u001b[0m\u001b[0m\n\u001b[1;32m--> 610\u001b[1;33m     \u001b[1;32mreturn\u001b[0m \u001b[0m_read\u001b[0m\u001b[1;33m(\u001b[0m\u001b[0mfilepath_or_buffer\u001b[0m\u001b[1;33m,\u001b[0m \u001b[0mkwds\u001b[0m\u001b[1;33m)\u001b[0m\u001b[1;33m\u001b[0m\u001b[1;33m\u001b[0m\u001b[0m\n\u001b[0m\u001b[0;32m    611\u001b[0m \u001b[1;33m\u001b[0m\u001b[0m\n\u001b[0;32m    612\u001b[0m \u001b[1;33m\u001b[0m\u001b[0m\n",
      "\u001b[1;32mD:\\anaconda\\lib\\site-packages\\pandas\\io\\parsers.py\u001b[0m in \u001b[0;36m_read\u001b[1;34m(filepath_or_buffer, kwds)\u001b[0m\n\u001b[0;32m    460\u001b[0m \u001b[1;33m\u001b[0m\u001b[0m\n\u001b[0;32m    461\u001b[0m     \u001b[1;31m# Create the parser.\u001b[0m\u001b[1;33m\u001b[0m\u001b[1;33m\u001b[0m\u001b[1;33m\u001b[0m\u001b[0m\n\u001b[1;32m--> 462\u001b[1;33m     \u001b[0mparser\u001b[0m \u001b[1;33m=\u001b[0m \u001b[0mTextFileReader\u001b[0m\u001b[1;33m(\u001b[0m\u001b[0mfilepath_or_buffer\u001b[0m\u001b[1;33m,\u001b[0m \u001b[1;33m**\u001b[0m\u001b[0mkwds\u001b[0m\u001b[1;33m)\u001b[0m\u001b[1;33m\u001b[0m\u001b[1;33m\u001b[0m\u001b[0m\n\u001b[0m\u001b[0;32m    463\u001b[0m \u001b[1;33m\u001b[0m\u001b[0m\n\u001b[0;32m    464\u001b[0m     \u001b[1;32mif\u001b[0m \u001b[0mchunksize\u001b[0m \u001b[1;32mor\u001b[0m \u001b[0miterator\u001b[0m\u001b[1;33m:\u001b[0m\u001b[1;33m\u001b[0m\u001b[1;33m\u001b[0m\u001b[0m\n",
      "\u001b[1;32mD:\\anaconda\\lib\\site-packages\\pandas\\io\\parsers.py\u001b[0m in \u001b[0;36m__init__\u001b[1;34m(self, f, engine, **kwds)\u001b[0m\n\u001b[0;32m    817\u001b[0m             \u001b[0mself\u001b[0m\u001b[1;33m.\u001b[0m\u001b[0moptions\u001b[0m\u001b[1;33m[\u001b[0m\u001b[1;34m\"has_index_names\"\u001b[0m\u001b[1;33m]\u001b[0m \u001b[1;33m=\u001b[0m \u001b[0mkwds\u001b[0m\u001b[1;33m[\u001b[0m\u001b[1;34m\"has_index_names\"\u001b[0m\u001b[1;33m]\u001b[0m\u001b[1;33m\u001b[0m\u001b[1;33m\u001b[0m\u001b[0m\n\u001b[0;32m    818\u001b[0m \u001b[1;33m\u001b[0m\u001b[0m\n\u001b[1;32m--> 819\u001b[1;33m         \u001b[0mself\u001b[0m\u001b[1;33m.\u001b[0m\u001b[0m_engine\u001b[0m \u001b[1;33m=\u001b[0m \u001b[0mself\u001b[0m\u001b[1;33m.\u001b[0m\u001b[0m_make_engine\u001b[0m\u001b[1;33m(\u001b[0m\u001b[0mself\u001b[0m\u001b[1;33m.\u001b[0m\u001b[0mengine\u001b[0m\u001b[1;33m)\u001b[0m\u001b[1;33m\u001b[0m\u001b[1;33m\u001b[0m\u001b[0m\n\u001b[0m\u001b[0;32m    820\u001b[0m \u001b[1;33m\u001b[0m\u001b[0m\n\u001b[0;32m    821\u001b[0m     \u001b[1;32mdef\u001b[0m \u001b[0mclose\u001b[0m\u001b[1;33m(\u001b[0m\u001b[0mself\u001b[0m\u001b[1;33m)\u001b[0m\u001b[1;33m:\u001b[0m\u001b[1;33m\u001b[0m\u001b[1;33m\u001b[0m\u001b[0m\n",
      "\u001b[1;32mD:\\anaconda\\lib\\site-packages\\pandas\\io\\parsers.py\u001b[0m in \u001b[0;36m_make_engine\u001b[1;34m(self, engine)\u001b[0m\n\u001b[0;32m   1048\u001b[0m             )\n\u001b[0;32m   1049\u001b[0m         \u001b[1;31m# error: Too many arguments for \"ParserBase\"\u001b[0m\u001b[1;33m\u001b[0m\u001b[1;33m\u001b[0m\u001b[1;33m\u001b[0m\u001b[0m\n\u001b[1;32m-> 1050\u001b[1;33m         \u001b[1;32mreturn\u001b[0m \u001b[0mmapping\u001b[0m\u001b[1;33m[\u001b[0m\u001b[0mengine\u001b[0m\u001b[1;33m]\u001b[0m\u001b[1;33m(\u001b[0m\u001b[0mself\u001b[0m\u001b[1;33m.\u001b[0m\u001b[0mf\u001b[0m\u001b[1;33m,\u001b[0m \u001b[1;33m**\u001b[0m\u001b[0mself\u001b[0m\u001b[1;33m.\u001b[0m\u001b[0moptions\u001b[0m\u001b[1;33m)\u001b[0m  \u001b[1;31m# type: ignore[call-arg]\u001b[0m\u001b[1;33m\u001b[0m\u001b[1;33m\u001b[0m\u001b[0m\n\u001b[0m\u001b[0;32m   1051\u001b[0m \u001b[1;33m\u001b[0m\u001b[0m\n\u001b[0;32m   1052\u001b[0m     \u001b[1;32mdef\u001b[0m \u001b[0m_failover_to_python\u001b[0m\u001b[1;33m(\u001b[0m\u001b[0mself\u001b[0m\u001b[1;33m)\u001b[0m\u001b[1;33m:\u001b[0m\u001b[1;33m\u001b[0m\u001b[1;33m\u001b[0m\u001b[0m\n",
      "\u001b[1;32mD:\\anaconda\\lib\\site-packages\\pandas\\io\\parsers.py\u001b[0m in \u001b[0;36m__init__\u001b[1;34m(self, src, **kwds)\u001b[0m\n\u001b[0;32m   1865\u001b[0m \u001b[1;33m\u001b[0m\u001b[0m\n\u001b[0;32m   1866\u001b[0m         \u001b[1;31m# open handles\u001b[0m\u001b[1;33m\u001b[0m\u001b[1;33m\u001b[0m\u001b[1;33m\u001b[0m\u001b[0m\n\u001b[1;32m-> 1867\u001b[1;33m         \u001b[0mself\u001b[0m\u001b[1;33m.\u001b[0m\u001b[0m_open_handles\u001b[0m\u001b[1;33m(\u001b[0m\u001b[0msrc\u001b[0m\u001b[1;33m,\u001b[0m \u001b[0mkwds\u001b[0m\u001b[1;33m)\u001b[0m\u001b[1;33m\u001b[0m\u001b[1;33m\u001b[0m\u001b[0m\n\u001b[0m\u001b[0;32m   1868\u001b[0m         \u001b[1;32massert\u001b[0m \u001b[0mself\u001b[0m\u001b[1;33m.\u001b[0m\u001b[0mhandles\u001b[0m \u001b[1;32mis\u001b[0m \u001b[1;32mnot\u001b[0m \u001b[1;32mNone\u001b[0m\u001b[1;33m\u001b[0m\u001b[1;33m\u001b[0m\u001b[0m\n\u001b[0;32m   1869\u001b[0m         \u001b[1;32mfor\u001b[0m \u001b[0mkey\u001b[0m \u001b[1;32min\u001b[0m \u001b[1;33m(\u001b[0m\u001b[1;34m\"storage_options\"\u001b[0m\u001b[1;33m,\u001b[0m \u001b[1;34m\"encoding\"\u001b[0m\u001b[1;33m,\u001b[0m \u001b[1;34m\"memory_map\"\u001b[0m\u001b[1;33m,\u001b[0m \u001b[1;34m\"compression\"\u001b[0m\u001b[1;33m)\u001b[0m\u001b[1;33m:\u001b[0m\u001b[1;33m\u001b[0m\u001b[1;33m\u001b[0m\u001b[0m\n",
      "\u001b[1;32mD:\\anaconda\\lib\\site-packages\\pandas\\io\\parsers.py\u001b[0m in \u001b[0;36m_open_handles\u001b[1;34m(self, src, kwds)\u001b[0m\n\u001b[0;32m   1360\u001b[0m         \u001b[0mLet\u001b[0m \u001b[0mthe\u001b[0m \u001b[0mreaders\u001b[0m \u001b[0mopen\u001b[0m \u001b[0mIOHanldes\u001b[0m \u001b[0mafter\u001b[0m \u001b[0mthey\u001b[0m \u001b[0mare\u001b[0m \u001b[0mdone\u001b[0m \u001b[1;32mwith\u001b[0m \u001b[0mtheir\u001b[0m \u001b[0mpotential\u001b[0m \u001b[0mraises\u001b[0m\u001b[1;33m.\u001b[0m\u001b[1;33m\u001b[0m\u001b[1;33m\u001b[0m\u001b[0m\n\u001b[0;32m   1361\u001b[0m         \"\"\"\n\u001b[1;32m-> 1362\u001b[1;33m         self.handles = get_handle(\n\u001b[0m\u001b[0;32m   1363\u001b[0m             \u001b[0msrc\u001b[0m\u001b[1;33m,\u001b[0m\u001b[1;33m\u001b[0m\u001b[1;33m\u001b[0m\u001b[0m\n\u001b[0;32m   1364\u001b[0m             \u001b[1;34m\"r\"\u001b[0m\u001b[1;33m,\u001b[0m\u001b[1;33m\u001b[0m\u001b[1;33m\u001b[0m\u001b[0m\n",
      "\u001b[1;32mD:\\anaconda\\lib\\site-packages\\pandas\\io\\common.py\u001b[0m in \u001b[0;36mget_handle\u001b[1;34m(path_or_buf, mode, encoding, compression, memory_map, is_text, errors, storage_options)\u001b[0m\n\u001b[0;32m    640\u001b[0m                 \u001b[0merrors\u001b[0m \u001b[1;33m=\u001b[0m \u001b[1;34m\"replace\"\u001b[0m\u001b[1;33m\u001b[0m\u001b[1;33m\u001b[0m\u001b[0m\n\u001b[0;32m    641\u001b[0m             \u001b[1;31m# Encoding\u001b[0m\u001b[1;33m\u001b[0m\u001b[1;33m\u001b[0m\u001b[1;33m\u001b[0m\u001b[0m\n\u001b[1;32m--> 642\u001b[1;33m             handle = open(\n\u001b[0m\u001b[0;32m    643\u001b[0m                 \u001b[0mhandle\u001b[0m\u001b[1;33m,\u001b[0m\u001b[1;33m\u001b[0m\u001b[1;33m\u001b[0m\u001b[0m\n\u001b[0;32m    644\u001b[0m                 \u001b[0mioargs\u001b[0m\u001b[1;33m.\u001b[0m\u001b[0mmode\u001b[0m\u001b[1;33m,\u001b[0m\u001b[1;33m\u001b[0m\u001b[1;33m\u001b[0m\u001b[0m\n",
      "\u001b[1;31mFileNotFoundError\u001b[0m: [Errno 2] No such file or directory: 'trainless.csv'"
     ]
    }
   ],
   "source": [
    "# train_df = pd.read_csv('trainless.csv')\n",
    "# test_df = pd.read_csv('testless.csv')\n",
    "Y_test=pd.read_csv('test_local_label.csv')\n",
    "train_df = pd.read_csv('newtrain.csv')\n",
    "test_df = pd.read_csv('newtest.csv')\n",
    "Y_test=pd.read_csv('test_local_label.csv')\n",
    "train_df.head()"
   ]
  },
  {
   "cell_type": "code",
   "execution_count": 4,
   "id": "f9f876f9",
   "metadata": {},
   "outputs": [],
   "source": [
    "# #只取4个关键特征\n",
    "# train_df=train_df.drop(['Embarked','Age','Family','Fare'],axis=1)\n",
    "# test_df=test_df.drop(['Embarked','Age','Family','Fare'],axis=1)"
   ]
  },
  {
   "cell_type": "code",
   "execution_count": 6,
   "id": "9557596e",
   "metadata": {},
   "outputs": [
    {
     "ename": "NameError",
     "evalue": "name 'train_df' is not defined",
     "output_type": "error",
     "traceback": [
      "\u001b[1;31m---------------------------------------------------------------------------\u001b[0m",
      "\u001b[1;31mNameError\u001b[0m                                 Traceback (most recent call last)",
      "\u001b[1;32m<ipython-input-6-fbb93a426a29>\u001b[0m in \u001b[0;36m<module>\u001b[1;34m\u001b[0m\n\u001b[1;32m----> 1\u001b[1;33m \u001b[0mX_train\u001b[0m \u001b[1;33m=\u001b[0m \u001b[0mtrain_df\u001b[0m\u001b[1;33m.\u001b[0m\u001b[0mdrop\u001b[0m\u001b[1;33m(\u001b[0m\u001b[1;33m[\u001b[0m\u001b[1;34m\"Survived\"\u001b[0m\u001b[1;33m,\u001b[0m\u001b[1;34m'PassengerId'\u001b[0m\u001b[1;33m,\u001b[0m\u001b[1;34m'Unnamed: 0'\u001b[0m\u001b[1;33m]\u001b[0m\u001b[1;33m,\u001b[0m \u001b[0maxis\u001b[0m\u001b[1;33m=\u001b[0m\u001b[1;36m1\u001b[0m\u001b[1;33m)\u001b[0m\u001b[1;33m\u001b[0m\u001b[1;33m\u001b[0m\u001b[0m\n\u001b[0m\u001b[0;32m      2\u001b[0m \u001b[0mY_train\u001b[0m \u001b[1;33m=\u001b[0m \u001b[0mtrain_df\u001b[0m\u001b[1;33m[\u001b[0m\u001b[1;34m\"Survived\"\u001b[0m\u001b[1;33m]\u001b[0m\u001b[1;33m\u001b[0m\u001b[1;33m\u001b[0m\u001b[0m\n\u001b[0;32m      3\u001b[0m \u001b[1;31m#X_test  = test_df.drop(\"PassengerId\", axis=1).copy()\u001b[0m\u001b[1;33m\u001b[0m\u001b[1;33m\u001b[0m\u001b[1;33m\u001b[0m\u001b[0m\n\u001b[0;32m      4\u001b[0m \u001b[0mX_test\u001b[0m\u001b[1;33m=\u001b[0m\u001b[0mtest_df\u001b[0m\u001b[1;33m.\u001b[0m\u001b[0mdrop\u001b[0m\u001b[1;33m(\u001b[0m\u001b[1;33m[\u001b[0m\u001b[1;34m'PassengerId'\u001b[0m\u001b[1;33m,\u001b[0m\u001b[1;34m'Unnamed: 0'\u001b[0m\u001b[1;33m]\u001b[0m\u001b[1;33m,\u001b[0m \u001b[0maxis\u001b[0m\u001b[1;33m=\u001b[0m\u001b[1;36m1\u001b[0m\u001b[1;33m)\u001b[0m\u001b[1;33m\u001b[0m\u001b[1;33m\u001b[0m\u001b[0m\n\u001b[0;32m      5\u001b[0m \u001b[0mY_test\u001b[0m\u001b[1;33m=\u001b[0m\u001b[0mY_test\u001b[0m\u001b[1;33m[\u001b[0m\u001b[1;34m'Survived'\u001b[0m\u001b[1;33m]\u001b[0m\u001b[1;33m\u001b[0m\u001b[1;33m\u001b[0m\u001b[0m\n",
      "\u001b[1;31mNameError\u001b[0m: name 'train_df' is not defined"
     ]
    }
   ],
   "source": [
    "X_train = train_df.drop([\"Survived\",'PassengerId','Unnamed: 0'], axis=1)\n",
    "Y_train = train_df[\"Survived\"]\n",
    "#X_test  = test_df.drop(\"PassengerId\", axis=1).copy()\n",
    "X_test=test_df.drop(['PassengerId','Unnamed: 0'], axis=1)\n",
    "Y_test=Y_test['Survived']\n",
    "X_train.shape, Y_train.shape, X_test.shape\n",
    "type(X_train)"
   ]
  },
  {
   "cell_type": "code",
   "execution_count": 6,
   "id": "b8822c98",
   "metadata": {},
   "outputs": [
    {
     "data": {
      "text/plain": [
       "<AxesSubplot:>"
      ]
     },
     "execution_count": 6,
     "metadata": {},
     "output_type": "execute_result"
    },
    {
     "data": {
      "image/png": "[encoded data removed]",
      "text/plain": [
       "<Figure size 432x288 with 2 Axes>"
      ]
     },
     "metadata": {
      "needs_background": "light"
     },
     "output_type": "display_data"
    }
   ],
   "source": [
    "train_df=train_df.drop(['PassengerId','Unnamed: 0'],axis=1)\n",
    "cor=train_df.corr()\n",
    "# 属性间相关系数热力图\n",
    "sns.heatmap(cor, \n",
    "cbar=True, annot=True, # 注入数字\n",
    "                 square=True, # 单元格为正方形\n",
    "                 fmt='.2f',   # 字符串格式代码\n",
    "                  annot_kws={'size': 10}, # 当annot为True时，ax.text的关键字参数，即注入数字的字体大小\n",
    "           center=0)"
   ]
  },
  {
   "cell_type": "code",
   "execution_count": 7,
   "id": "b34ae4e9",
   "metadata": {},
   "outputs": [
    {
     "data": {
      "text/html": [
       "<div>\n",
       "<style scoped>\n",
       "    .dataframe tbody tr th:only-of-type {\n",
       "        vertical-align: middle;\n",
       "    }\n",
       "\n",
       "    .dataframe tbody tr th {\n",
       "        vertical-align: top;\n",
       "    }\n",
       "\n",
       "    .dataframe thead th {\n",
       "        text-align: right;\n",
       "    }\n",
       "</style>\n",
       "<table border=\"1\" class=\"dataframe\">\n",
       "  <thead>\n",
       "    <tr style=\"text-align: right;\">\n",
       "      <th></th>\n",
       "      <th>Pclass</th>\n",
       "      <th>Sex</th>\n",
       "      <th>Age</th>\n",
       "      <th>Fare</th>\n",
       "      <th>Embarked</th>\n",
       "      <th>Title</th>\n",
       "      <th>Desk</th>\n",
       "      <th>Family</th>\n",
       "    </tr>\n",
       "  </thead>\n",
       "  <tbody>\n",
       "    <tr>\n",
       "      <th>0</th>\n",
       "      <td>1</td>\n",
       "      <td>0</td>\n",
       "      <td>0.0</td>\n",
       "      <td>2</td>\n",
       "      <td>0</td>\n",
       "      <td>4</td>\n",
       "      <td>3</td>\n",
       "      <td>0</td>\n",
       "    </tr>\n",
       "    <tr>\n",
       "      <th>1</th>\n",
       "      <td>3</td>\n",
       "      <td>0</td>\n",
       "      <td>1.0</td>\n",
       "      <td>0</td>\n",
       "      <td>0</td>\n",
       "      <td>1</td>\n",
       "      <td>1</td>\n",
       "      <td>0</td>\n",
       "    </tr>\n",
       "    <tr>\n",
       "      <th>2</th>\n",
       "      <td>3</td>\n",
       "      <td>1</td>\n",
       "      <td>0.0</td>\n",
       "      <td>2</td>\n",
       "      <td>0</td>\n",
       "      <td>2</td>\n",
       "      <td>1</td>\n",
       "      <td>0</td>\n",
       "    </tr>\n",
       "    <tr>\n",
       "      <th>3</th>\n",
       "      <td>2</td>\n",
       "      <td>0</td>\n",
       "      <td>2.0</td>\n",
       "      <td>1</td>\n",
       "      <td>0</td>\n",
       "      <td>1</td>\n",
       "      <td>1</td>\n",
       "      <td>0</td>\n",
       "    </tr>\n",
       "    <tr>\n",
       "      <th>4</th>\n",
       "      <td>2</td>\n",
       "      <td>0</td>\n",
       "      <td>2.0</td>\n",
       "      <td>1</td>\n",
       "      <td>0</td>\n",
       "      <td>1</td>\n",
       "      <td>1</td>\n",
       "      <td>0</td>\n",
       "    </tr>\n",
       "  </tbody>\n",
       "</table>\n",
       "</div>"
      ],
      "text/plain": [
       "   Pclass  Sex  Age  Fare  Embarked  Title  Desk  Family\n",
       "0       1    0  0.0     2         0      4     3       0\n",
       "1       3    0  1.0     0         0      1     1       0\n",
       "2       3    1  0.0     2         0      2     1       0\n",
       "3       2    0  2.0     1         0      1     1       0\n",
       "4       2    0  2.0     1         0      1     1       0"
      ]
     },
     "execution_count": 7,
     "metadata": {},
     "output_type": "execute_result"
    }
   ],
   "source": [
    "X_train.head()"
   ]
  },
  {
   "cell_type": "markdown",
   "id": "ffbf9e98",
   "metadata": {},
   "source": [
    "1. Pipeline模型成功"
   ]
  },
  {
   "cell_type": "code",
   "execution_count": 8,
   "id": "1405471f",
   "metadata": {},
   "outputs": [],
   "source": [
    "# X = train_df.values[:,1:]\n",
    "# y = train_df.values[:,0]\n",
    "\n",
    "# pipe = Pipeline([('select', SelectKBest(k=10)),\n",
    "#             ('classify',RandomForestClassifier(random_state=10,max_features='sqrt'))\n",
    "#             ])\n",
    "# parm_test = {'classify__n_estimators':list(range(20,50,2)),\n",
    "#             'classify__max_depth':list(range(3,60,3))\n",
    "#             }\n",
    "\n",
    "# gsearch = GridSearchCV(estimator=pipe,param_grid=parm_test,scoring='roc_auc',cv = 10)\n",
    "# gsearch.fit(X_train,Y_train)\n",
    "# print(gsearch.best_params_,gsearch.best_score_)"
   ]
  },
  {
   "cell_type": "code",
   "execution_count": 9,
   "id": "9e3d6e64",
   "metadata": {},
   "outputs": [],
   "source": [
    "# from sklearn.pipeline import make_pipeline\n",
    "# select = SelectKBest( k = 10)\n",
    "# clf = RandomForestClassifier(random_state=10,warm_start=True,\n",
    "#                             n_estimators = 26,\n",
    "#                             max_depth = 6,\n",
    "#                             max_features = 'sqrt'\n",
    "#                             )\n",
    "# pipeline = make_pipeline(select,clf)\n",
    "# pipeline.fit(X_train,Y_train)\n",
    "\n",
    "# #mport pickle\n",
    "# #s=pickle.dumps(pipeline)\n",
    "# import joblib\n",
    "# joblib.dump(pipeline, 'newpipeline.pkl')\n",
    "\n",
    "# #clf3 = joblib.load('pipline.pkl')\n",
    "# #print(clf3.predict(X[0:1]))  # 输出[0]"
   ]
  },
  {
   "cell_type": "markdown",
   "id": "b02609b9",
   "metadata": {},
   "source": [
    "2. knn 能跑但是效果差"
   ]
  },
  {
   "cell_type": "code",
   "execution_count": 10,
   "id": "f5f350ec",
   "metadata": {},
   "outputs": [],
   "source": [
    "# knn = KNeighborsClassifier(n_neighbors = 3)\n",
    "# knn.fit(X_train, Y_train)\n",
    "# Y_pred = knn.predict(X_test)\n",
    "# print(X_test)\n",
    "# knn.score(X_test, Y_test)"
   ]
  },
  {
   "cell_type": "code",
   "execution_count": 11,
   "id": "d25ec8f9",
   "metadata": {
    "scrolled": false
   },
   "outputs": [],
   "source": [
    "# # 调参\n",
    "# best_score = 0.0\n",
    "# best_k = 0\n",
    "# for k in range(1,10):\n",
    "#     knn = KNeighborsClassifier(n_neighbors = k)\n",
    "#     knn.fit(X_train, Y_train)\n",
    "#     Y_pred = knn.predict(X_test)\n",
    "#     score = sum(Y_pred == Y_test) / len(Y_test)\n",
    "#     if score > best_score:\n",
    "#         best_score = score\n",
    "#         best_k = k\n",
    "# print(\"best score is: \", best_score)\n",
    "# print(\"best k is: \", best_k)"
   ]
  },
  {
   "cell_type": "code",
   "execution_count": 12,
   "id": "35302e13",
   "metadata": {},
   "outputs": [],
   "source": [
    "# # 获取重要性\n",
    "# feat_important = knn.feature_importances_\n",
    "# # 特征名\n",
    "# feat_name = X_train.columns\n",
    "# plt.barh(range(len(feat_name)),feat_important,tick_label=feat_name)"
   ]
  },
  {
   "cell_type": "code",
   "execution_count": 13,
   "id": "e45e1269",
   "metadata": {},
   "outputs": [],
   "source": [
    "# knn = KNeighborsClassifier(n_neighbors = 3)\n",
    "# knn.fit(X_train, Y_train)\n",
    "# import joblib\n",
    "# joblib.dump(knn, 'newknn.pkl')"
   ]
  },
  {
   "cell_type": "markdown",
   "id": "cef256c7",
   "metadata": {},
   "source": [
    "3. rfc成功，调参后和pipelne结果一致"
   ]
  },
  {
   "cell_type": "code",
   "execution_count": 14,
   "id": "06eeef8d",
   "metadata": {},
   "outputs": [],
   "source": [
    "# # Random Forest\n",
    "# # 采用默认参数进行分类\n",
    "# from sklearn.metrics import classification_report\n",
    "\n",
    "# rfc = RandomForestClassifier()\n",
    "# rfc.fit(X_train,Y_train)\n",
    "# pred = rfc.predict(X_test)\n",
    "# #print(classification_report(pred,Y_test))\n"
   ]
  },
  {
   "cell_type": "code",
   "execution_count": 15,
   "id": "80677fc7",
   "metadata": {},
   "outputs": [],
   "source": [
    "# rfc.get_params(deep=True)"
   ]
  },
  {
   "cell_type": "markdown",
   "id": "3573f56d",
   "metadata": {},
   "source": [
    "分步调参（网格调参）"
   ]
  },
  {
   "cell_type": "code",
   "execution_count": 16,
   "id": "26224640",
   "metadata": {},
   "outputs": [],
   "source": [
    "# # 调参\n",
    "# rfc = RandomForestClassifier()\n",
    "# parameters = {'n_estimators': range(50,100,10),'max_depth':range(4,13,1),\n",
    "#               'min_samples_leaf':[2,3,4,5,6],'max_features':range(2,5,1)}\n",
    "\n",
    "# grid_rfc = GridSearchCV(rfc,parameters,scoring='f1_macro')\n",
    "\n",
    "# grid_rfc.fit(X_train,Y_train)\n",
    "\n",
    "# grid_rfc.best_params_,grid_rfc.best_score_"
   ]
  },
  {
   "cell_type": "code",
   "execution_count": 17,
   "id": "e1836a42",
   "metadata": {},
   "outputs": [],
   "source": [
    "# #rfc_param = RandomForestClassifier(n_estimators=40,max_depth=4,max_features=7,min_samples_leaf=2)\n",
    "# rfc_param = RandomForestClassifier(n_estimators=40,max_depth=4,max_features=4,min_samples_leaf=3)\n",
    "# rfc_param.fit(X_train,Y_train)\n",
    "\n",
    "# pred = rfc_param.predict(X_test)\n",
    "# print(classification_report(pred,Y_test))"
   ]
  },
  {
   "cell_type": "code",
   "execution_count": 18,
   "id": "7f5c2ed8",
   "metadata": {},
   "outputs": [],
   "source": [
    "RandomForest 特征重要性\n",
    "# 获取重要性\n",
    "feat_important = rfc_param.feature_importances_\n",
    "# 特征名\n",
    "feat_name = X_train.columns\n",
    "plt.barh(range(len(feat_name)),feat_important,tick_label=feat_name)"
   ]
  },
  {
   "cell_type": "code",
   "execution_count": 19,
   "id": "6f5fca74",
   "metadata": {},
   "outputs": [],
   "source": [
    "# param_test1 = {'n_estimators':range(10,71,10)}\n",
    "# gsearch1 = GridSearchCV(estimator = RandomForestClassifier(min_samples_split=100,\n",
    "#                                   min_samples_leaf=20,max_depth=8,max_features='sqrt' ,random_state=10), \n",
    "#                        param_grid = param_test1, scoring='roc_auc',cv=5)\n",
    "# gsearch1.fit(X_test,Y_test)\n",
    "# gsearch1.best_params_"
   ]
  },
  {
   "cell_type": "code",
   "execution_count": 20,
   "id": "757595a1",
   "metadata": {},
   "outputs": [],
   "source": [
    "# param_test2 = {'max_depth':range(3,14,2), 'min_samples_split':range(50,201,20)}\n",
    "# gsearch2 = GridSearchCV(estimator = RandomForestClassifier(n_estimators= 10, \n",
    "#                                   min_samples_leaf=20,max_features='sqrt' ,oob_score=True, random_state=10),\n",
    "#    param_grid = param_test2, scoring='roc_auc', cv=5)\n",
    "# gsearch2.fit(X_test,Y_test)\n",
    "# gsearch2.best_params_"
   ]
  },
  {
   "cell_type": "code",
   "execution_count": 21,
   "id": "70fcca63",
   "metadata": {
    "scrolled": true
   },
   "outputs": [],
   "source": [
    "# param_test3 = {'min_samples_split':range(80,150,20), 'min_samples_leaf':range(10,60,10)}\n",
    "# gsearch3 = GridSearchCV(estimator = RandomForestClassifier(n_estimators= 10, max_depth=3,\n",
    "#                                   max_features='sqrt' ,oob_score=True, random_state=10),\n",
    "#    param_grid = param_test3, scoring='roc_auc', cv=5)\n",
    "# gsearch3.fit(X_test,Y_test)\n",
    "# #print(pd.DataFrame(gsearch3.cv_results_).loc[:, ['mean_test_score', 'rank_test_score']] \\\n",
    "#  #       .sort_values(by='rank_test_score'))\n",
    "# print(gsearch3.cv_results_['params'])\n",
    "# print(pd.DataFrame(gsearch3.cv_results_).loc[:, ['mean_test_score', 'rank_test_score']] \\\n",
    "#         .sort_values(by='rank_test_score'))"
   ]
  },
  {
   "cell_type": "code",
   "execution_count": 22,
   "id": "d2dfe163",
   "metadata": {},
   "outputs": [],
   "source": [
    "# param_test4 = {'max_features':range(3,11,2)}\n",
    "# gsearch4 = GridSearchCV(estimator = RandomForestClassifier(n_estimators= 10, max_depth=3, min_samples_split=80,\n",
    "#                                   min_samples_leaf=30 ,oob_score=True, random_state=10),\n",
    "#    param_grid = param_test4, scoring='roc_auc', cv=5)\n",
    "# gsearch4.fit(X_test,Y_test)\n",
    "# gsearch4.cv_results_, gsearch4.cv_results_, gsearch4.cv_results_\n",
    "# print(gsearch4.cv_results_['params'])\n",
    "# print(pd.DataFrame(gsearch4.cv_results_).loc[:, ['mean_test_score', 'rank_test_score']] \\\n",
    "#         .sort_values(by='rank_test_score'))"
   ]
  },
  {
   "cell_type": "code",
   "execution_count": 23,
   "id": "25e88347",
   "metadata": {},
   "outputs": [],
   "source": [
    "# rf2 = RandomForestClassifier(n_estimators= 10, max_depth=3, min_samples_split=80,\n",
    "#                                   min_samples_leaf=30,max_features=3 ,oob_score=True, random_state=10)\n",
    "# rf2.fit(X_test,Y_test)\n",
    "# rf2.oob_score_"
   ]
  },
  {
   "cell_type": "code",
   "execution_count": 24,
   "id": "48b37187",
   "metadata": {},
   "outputs": [],
   "source": [
    "# import joblib\n",
    "# joblib.dump(rfc_param, 'newrfcless.pkl')"
   ]
  },
  {
   "cell_type": "markdown",
   "id": "223c2ba9",
   "metadata": {},
   "source": [
    "4. 基于pytorch的简单的神经网络"
   ]
  },
  {
   "cell_type": "code",
   "execution_count": 25,
   "id": "39583206",
   "metadata": {},
   "outputs": [],
   "source": [
    "import numpy as np\n",
    "import pandas as pd\n",
    "import seaborn as sns\n",
    "import matplotlib.pyplot as plt\n",
    "from collections import Counter\n",
    "from sklearn.utils import shuffle\n",
    "from sklearn.preprocessing import StandardScaler\n",
    "from sklearn.linear_model import LogisticRegression\n",
    "from sklearn.model_selection import train_test_split"
   ]
  },
  {
   "cell_type": "code",
   "execution_count": 26,
   "id": "3e24e969",
   "metadata": {},
   "outputs": [
    {
     "data": {
      "text/plain": [
       "((891, 10), (418, 9))"
      ]
     },
     "execution_count": 26,
     "metadata": {},
     "output_type": "execute_result"
    }
   ],
   "source": [
    "df_train = pd.read_csv('newtrainall.csv')\n",
    "df_test  = pd.read_csv('df.csv')\n",
    "#df_sub   = pd.read_csv('gender_submission.csv')\n",
    "df_train.head()\n",
    "df_train.shape,df_test.shape"
   ]
  },
  {
   "cell_type": "code",
   "execution_count": 27,
   "id": "a963c3be",
   "metadata": {},
   "outputs": [
    {
     "name": "stderr",
     "output_type": "stream",
     "text": [
      "D:\\anaconda\\lib\\site-packages\\pandas\\core\\series.py:4463: SettingWithCopyWarning: \n",
      "A value is trying to be set on a copy of a slice from a DataFrame\n",
      "\n",
      "See the caveats in the documentation: https://pandas.pydata.org/pandas-docs/stable/user_guide/indexing.html#returning-a-view-versus-a-copy\n",
      "  return super().fillna(\n",
      "D:\\anaconda\\lib\\site-packages\\pandas\\core\\frame.py:4462: SettingWithCopyWarning: \n",
      "A value is trying to be set on a copy of a slice from a DataFrame\n",
      "\n",
      "See the caveats in the documentation: https://pandas.pydata.org/pandas-docs/stable/user_guide/indexing.html#returning-a-view-versus-a-copy\n",
      "  return super().fillna(\n"
     ]
    }
   ],
   "source": [
    "#df_train.drop(['Name','Ticket','Cabin'],axis=1,inplace=True)\n",
    "#df_test.drop( ['Name','Ticket','Cabin'],axis=1,inplace=True)\n",
    "\n",
    "sex      = pd.get_dummies(df_train['Sex'],drop_first=True)\n",
    "embark   = pd.get_dummies(df_train['Embarked'],drop_first=True)\n",
    "df_train = pd.concat([df_train,sex,embark],axis=1)\n",
    "\n",
    "df_train.drop(['Sex','Embarked'],axis=1,inplace=True)\n",
    "\n",
    "sex     = pd.get_dummies(df_test['Sex'],drop_first=True)\n",
    "embark  = pd.get_dummies(df_test['Embarked'],drop_first=True)\n",
    "df_test = pd.concat([df_test,sex,embark],axis=1)\n",
    "\n",
    "df_test.drop(['Sex','Embarked'],axis=1,inplace=True)\n",
    "\n",
    "df_train.fillna(df_train.mean(),inplace=True)\n",
    "df_test.fillna(df_test.mean(),inplace=True)\n",
    "\n",
    "Scaler1 = StandardScaler()\n",
    "Scaler2 = StandardScaler()\n",
    "\n",
    "train_columns = df_train.columns\n",
    "test_columns  = df_test.columns\n",
    "\n",
    "df_train = pd.DataFrame(Scaler1.fit_transform(df_train))\n",
    "df_test  = pd.DataFrame(Scaler2.fit_transform(df_test))\n",
    "\n",
    "df_train.columns = train_columns\n",
    "df_test.columns  = test_columns\n",
    "\n",
    "features = df_train.iloc[:,2:].columns.tolist()\n",
    "target   = df_train.loc[:, 'Survived'].name\n",
    "\n",
    "X_train = df_train.iloc[:,2:].values\n",
    "y_train = df_train.loc[:, 'Survived'].values"
   ]
  },
  {
   "cell_type": "code",
   "execution_count": 28,
   "id": "4c5fc816",
   "metadata": {},
   "outputs": [],
   "source": [
    "import torch\n",
    "import torch.nn as nn\n",
    "from torch.nn import functional as F\n",
    "from torch.autograd import Variable"
   ]
  },
  {
   "cell_type": "code",
   "execution_count": 29,
   "id": "d7c0f337",
   "metadata": {},
   "outputs": [
    {
     "name": "stdout",
     "output_type": "stream",
     "text": [
      "Net(\n",
      "  (fc1): Linear(in_features=9, out_features=512, bias=True)\n",
      "  (fc2): Linear(in_features=512, out_features=512, bias=True)\n",
      "  (fc3): Linear(in_features=512, out_features=2, bias=True)\n",
      "  (dropout): Dropout(p=0.2, inplace=False)\n",
      ")\n"
     ]
    }
   ],
   "source": [
    "#thank you very much https://www.kaggle.com/mburakergenc/ttianic-minimal-pytorch-mlp\n",
    "class Net(nn.Module):\n",
    "    def __init__(self):\n",
    "        super(Net, self).__init__()\n",
    "        self.fc1 = nn.Linear(9, 512)\n",
    "        self.fc2 = nn.Linear(512, 512)\n",
    "        self.fc3 = nn.Linear(512, 2)\n",
    "        self.dropout = nn.Dropout(0.2)\n",
    "        \n",
    "    def forward(self, x):\n",
    "        x = F.relu(self.fc1(x))\n",
    "        x = self.dropout(x)\n",
    "        x = F.relu(self.fc2(x))\n",
    "        x = self.dropout(x)\n",
    "        x = self.fc3(x)\n",
    "        return x\n",
    "model = Net()\n",
    "print(model)"
   ]
  },
  {
   "cell_type": "code",
   "execution_count": 30,
   "id": "d1401bca",
   "metadata": {},
   "outputs": [],
   "source": [
    "criterion = nn.CrossEntropyLoss()\n",
    "\n",
    "optimizer = torch.optim.SGD(model.parameters(), lr=0.01)\n"
   ]
  },
  {
   "cell_type": "code",
   "execution_count": 31,
   "id": "6dadde0e",
   "metadata": {},
   "outputs": [
    {
     "name": "stdout",
     "output_type": "stream",
     "text": [
      "Validation loss decreased (   inf ===> 0.627003). Saving the model...\n",
      "\n",
      "Epoch: 1 \tTrain Loss: 0.6270031227942402 \tTrain Accuracy: 0.0\n",
      "Validation loss decreased (0.627003 ===> 0.575660). Saving the model...\n",
      "Validation loss decreased (0.575660 ===> 0.534888). Saving the model...\n",
      "Validation loss decreased (0.534888 ===> 0.508072). Saving the model...\n",
      "Validation loss decreased (0.508072 ===> 0.482502). Saving the model...\n",
      "Validation loss decreased (0.482502 ===> 0.463374). Saving the model...\n",
      "Validation loss decreased (0.463374 ===> 0.453424). Saving the model...\n",
      "Validation loss decreased (0.453424 ===> 0.446007). Saving the model...\n",
      "Validation loss decreased (0.446007 ===> 0.433369). Saving the model...\n",
      "Validation loss decreased (0.433369 ===> 0.424271). Saving the model...\n",
      "Validation loss decreased (0.424271 ===> 0.415551). Saving the model...\n",
      "Validation loss decreased (0.415551 ===> 0.412280). Saving the model...\n",
      "Validation loss decreased (0.412280 ===> 0.408833). Saving the model...\n",
      "Validation loss decreased (0.408833 ===> 0.407041). Saving the model...\n",
      "Validation loss decreased (0.407041 ===> 0.405789). Saving the model...\n",
      "Validation loss decreased (0.405789 ===> 0.404118). Saving the model...\n",
      "Validation loss decreased (0.404118 ===> 0.402927). Saving the model...\n",
      "Validation loss decreased (0.402927 ===> 0.401886). Saving the model...\n",
      "Validation loss decreased (0.401886 ===> 0.401444). Saving the model...\n",
      "Validation loss decreased (0.401444 ===> 0.396355). Saving the model...\n",
      "Validation loss decreased (0.396355 ===> 0.392111). Saving the model...\n",
      "Validation loss decreased (0.392111 ===> 0.391927). Saving the model...\n",
      "Validation loss decreased (0.391927 ===> 0.390861). Saving the model...\n",
      "Validation loss decreased (0.390861 ===> 0.389742). Saving the model...\n",
      "Validation loss decreased (0.389742 ===> 0.389490). Saving the model...\n",
      "Validation loss decreased (0.389490 ===> 0.387855). Saving the model...\n",
      "Validation loss decreased (0.387855 ===> 0.383060). Saving the model...\n",
      "Validation loss decreased (0.383060 ===> 0.381964). Saving the model...\n",
      "Validation loss decreased (0.381964 ===> 0.381515). Saving the model...\n",
      "Validation loss decreased (0.381515 ===> 0.380842). Saving the model...\n",
      "Validation loss decreased (0.380842 ===> 0.378848). Saving the model...\n",
      "Validation loss decreased (0.378848 ===> 0.378633). Saving the model...\n",
      "Validation loss decreased (0.378633 ===> 0.378598). Saving the model...\n",
      "Validation loss decreased (0.378598 ===> 0.376351). Saving the model...\n",
      "Validation loss decreased (0.376351 ===> 0.373739). Saving the model...\n",
      "Validation loss decreased (0.373739 ===> 0.373170). Saving the model...\n",
      "Validation loss decreased (0.373170 ===> 0.371939). Saving the model...\n",
      "Validation loss decreased (0.371939 ===> 0.371414). Saving the model...\n",
      "Validation loss decreased (0.371414 ===> 0.371344). Saving the model...\n",
      "Validation loss decreased (0.371344 ===> 0.370632). Saving the model...\n",
      "Validation loss decreased (0.370632 ===> 0.368624). Saving the model...\n",
      "Validation loss decreased (0.368624 ===> 0.368433). Saving the model...\n",
      "Validation loss decreased (0.368433 ===> 0.365867). Saving the model...\n",
      "Validation loss decreased (0.365867 ===> 0.362070). Saving the model...\n",
      "Validation loss decreased (0.362070 ===> 0.360766). Saving the model...\n",
      "Validation loss decreased (0.360766 ===> 0.359435). Saving the model...\n",
      "Validation loss decreased (0.359435 ===> 0.358906). Saving the model...\n",
      "Validation loss decreased (0.358906 ===> 0.357824). Saving the model...\n",
      "Validation loss decreased (0.357824 ===> 0.356301). Saving the model...\n",
      "Validation loss decreased (0.356301 ===> 0.355605). Saving the model...\n",
      "Validation loss decreased (0.355605 ===> 0.353826). Saving the model...\n",
      "\n",
      "Epoch: 201 \tTrain Loss: 0.3580832302333895 \tTrain Accuracy: 0.0\n",
      "Validation loss decreased (0.353826 ===> 0.352522). Saving the model...\n",
      "Validation loss decreased (0.352522 ===> 0.351813). Saving the model...\n",
      "Validation loss decreased (0.351813 ===> 0.349939). Saving the model...\n",
      "Validation loss decreased (0.349939 ===> 0.348658). Saving the model...\n",
      "Validation loss decreased (0.348658 ===> 0.346000). Saving the model...\n",
      "Validation loss decreased (0.346000 ===> 0.344627). Saving the model...\n",
      "Validation loss decreased (0.344627 ===> 0.341992). Saving the model...\n",
      "Validation loss decreased (0.341992 ===> 0.341920). Saving the model...\n",
      "Validation loss decreased (0.341920 ===> 0.340579). Saving the model...\n",
      "Validation loss decreased (0.340579 ===> 0.338333). Saving the model...\n",
      "Validation loss decreased (0.338333 ===> 0.333057). Saving the model...\n",
      "\n",
      "Epoch: 401 \tTrain Loss: 0.341883122537649 \tTrain Accuracy: 0.0\n",
      "Validation loss decreased (0.333057 ===> 0.332068). Saving the model...\n",
      "Validation loss decreased (0.332068 ===> 0.329556). Saving the model...\n",
      "Training Ended! \n"
     ]
    }
   ],
   "source": [
    "#thank you very much https://www.kaggle.com/mburakergenc/ttianic-minimal-pytorch-mlp\n",
    "\n",
    "batch_size = 64\n",
    "n_epochs = 500\n",
    "batch_no = len(X_train) // batch_size\n",
    "\n",
    "train_loss = 0\n",
    "train_loss_min = np.Inf\n",
    "for epoch in range(n_epochs):\n",
    "    for i in range(batch_no):\n",
    "        start = i * batch_size\n",
    "        end   = start + batch_size\n",
    "        x_var = Variable(torch.FloatTensor(X_train[start:end]))\n",
    "        y_var = Variable(torch.LongTensor(y_train[start:end])) \n",
    "        \n",
    "        optimizer.zero_grad()\n",
    "        output = model(x_var)\n",
    "        loss   = criterion(output,y_var)\n",
    "        loss.backward()\n",
    "        optimizer.step()\n",
    "        \n",
    "        values, labels = torch.max(output, 1)\n",
    "        num_right   = np.sum(labels.data.numpy() == y_train[start:end])\n",
    "        train_loss += loss.item()*batch_size\n",
    "    \n",
    "    train_loss = train_loss / len(X_train)\n",
    "    if train_loss <= train_loss_min:\n",
    "        print(\"Validation loss decreased ({:6f} ===> {:6f}). Saving the model...\".format(train_loss_min,train_loss))\n",
    "        torch.save(model.state_dict(), \"model.pt\")\n",
    "        train_loss_min = train_loss\n",
    "    \n",
    "    if epoch % 200 == 0:\n",
    "        print('')\n",
    "        print(\"Epoch: {} \\tTrain Loss: {} \\tTrain Accuracy: {}\".format(epoch+1, train_loss,num_right / len(y_train[start:end]) ))\n",
    "print('Training Ended! ')"
   ]
  },
  {
   "cell_type": "code",
   "execution_count": 35,
   "id": "91d63c02",
   "metadata": {},
   "outputs": [],
   "source": [
    "X_test     = df_test.iloc[:,1:].values\n",
    "X_test_var = Variable(torch.FloatTensor(X_test), requires_grad=False) \n",
    "with torch.no_grad():\n",
    "    test_result = model(X_test_var)\n",
    "values, labels = torch.max(test_result, 1)\n",
    "survived = labels.data.numpy()"
   ]
  },
  {
   "cell_type": "code",
   "execution_count": 36,
   "id": "c6b7d7eb",
   "metadata": {},
   "outputs": [],
   "source": [
    "torch.save(model,'nn.pth')"
   ]
  },
  {
   "cell_type": "code",
   "execution_count": 37,
   "id": "e1607e0f",
   "metadata": {},
   "outputs": [],
   "source": [
    "submission = pd.DataFrame({'PassengerId': df_test['PassengerId'], 'Survived': survived})\n",
    "submission.to_csv('submissionnn.csv', index=False)"
   ]
  },
  {
   "cell_type": "markdown",
   "id": "713901a9",
   "metadata": {},
   "source": [
    "5. 尝试一些怪东西"
   ]
  },
  {
   "cell_type": "code",
   "execution_count": null,
   "id": "1f65ef31",
   "metadata": {},
   "outputs": [],
   "source": []
  }
 ],
 "metadata": {
  "kernelspec": {
   "display_name": "Python 3",
   "language": "python",
   "name": "python3"
  },
  "language_info": {
   "codemirror_mode": {
    "name": "ipython",
    "version": 3
   },
   "file_extension": ".py",
   "mimetype": "text/x-python",
   "name": "python",
   "nbconvert_exporter": "python",
   "pygments_lexer": "ipython3",
   "version": "3.8.8"
  }
 },
 "nbformat": 4,
 "nbformat_minor": 5
}

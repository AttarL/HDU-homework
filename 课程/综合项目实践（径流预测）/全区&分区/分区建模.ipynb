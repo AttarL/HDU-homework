{
 "cells": [
  {
   "cell_type": "code",
   "execution_count": 8,
   "id": "06371c84",
   "metadata": {},
   "outputs": [
    {
     "name": "stdout",
     "output_type": "stream",
     "text": [
      "       Filename  Cluster_ID\n",
      "0  01333000.csv           2\n",
      "1  01350000.csv           0\n",
      "2  01350080.csv           1\n",
      "3  01350140.csv           1\n",
      "4  01365000.csv           1\n",
      "文件移动完成。\n"
     ]
    }
   ],
   "source": [
    "# import os\n",
    "# import shutil\n",
    "# import pandas as pd\n",
    "\n",
    "# # 读取 cluster_results.csv 文件\n",
    "# cluster_results = pd.read_csv('cluster_results.csv')\n",
    "# print(cluster_results.head())\n",
    "# # 创建文件夹以存储每个簇的河流文件\n",
    "# for cluster_label in cluster_results['Cluster_ID'].unique():\n",
    "#     folder_path = f'cluster_{cluster_label}'\n",
    "#     if not os.path.exists(folder_path):\n",
    "#         os.makedirs(folder_path)\n",
    "\n",
    "# # 遍历 data_day_4 文件夹中的每个CSV文件\n",
    "# data_day_4_folder = 'data_day_4'\n",
    "# for file_name in os.listdir(data_day_4_folder):\n",
    "#     if file_name.endswith('.csv'):\n",
    "#         file_path = os.path.join(data_day_4_folder, file_name)\n",
    "        \n",
    "#         # 在 cluster_results 中查找文件所属簇标签\n",
    "#         cluster_label = cluster_results.loc[cluster_results['Filename'] == file_name, 'Cluster_ID'].values\n",
    "#         if len(cluster_label) > 0:\n",
    "#             cluster_label = cluster_label[0]\n",
    "            \n",
    "#             # 将文件移动到相应的文件夹中\n",
    "#             folder_path = f'cluster_{cluster_label}'\n",
    "#             destination_path = os.path.join(folder_path, file_name)\n",
    "#             shutil.move(file_path, destination_path)\n",
    "\n",
    "# print(\"文件移动完成。\")\n"
   ]
  },
  {
   "cell_type": "code",
   "execution_count": 9,
   "id": "52e2ae1b",
   "metadata": {},
   "outputs": [],
   "source": [
    "import os\n",
    "import pandas as pd\n",
    "from sklearn.neural_network import MLPRegressor\n",
    "from sklearn.metrics import mean_squared_error\n",
    "from math import sqrt\n",
    "\n",
    "# 遍历每个文件夹\n",
    "for i in range(5):  # 文件夹名为 'cluster_0' 到 'cluster_4'\n",
    "    folder_name = f'cluster_{i}'\n",
    "    folder_path = os.path.join('data_day_4', folder_name)\n",
    "    \n",
    "    if os.path.isdir(folder_path):\n",
    "        # 创建 BP 模型\n",
    "        model = MLPRegressor(hidden_layer_sizes=(100,), activation='relu', solver='adam', random_state=42)\n",
    "        \n",
    "        # 遍历文件夹中的每个 CSV 文件\n",
    "        for file_name in os.listdir(folder_path):\n",
    "            file_path = os.path.join(folder_path, file_name)\n",
    "            \n",
    "            if file_name.endswith('.csv'):\n",
    "                # 读取 CSV 文件\n",
    "                df = pd.read_csv(file_path)\n",
    "                \n",
    "                # 提取特征和目标变量\n",
    "                X = df.drop(['target_column'], axis=1)  # 假设目标变量列名为 'target_column'\n",
    "                y = df['target_column']\n",
    "                \n",
    "                # 使用前1463行数据进行训练\n",
    "                X_train, y_train = X.iloc[:1463, :], y.iloc[:1463]\n",
    "                \n",
    "                # 训练模型\n",
    "                model.fit(X_train, y_train)\n",
    "                \n",
    "                # 使用剩余数据进行预测\n",
    "                X_test, y_test = X.iloc[1463:, :], y.iloc[1463:]\n",
    "                y_pred = model.predict(X_test)\n",
    "                \n",
    "                # 计算预测结果的均方根误差\n",
    "                rmse = sqrt(mean_squared_error(y_test, y_pred))\n",
    "                print(f\"文件 '{file_name}' 的预测均方根误差：{rmse:.2f}\")\n"
   ]
  },
  {
   "cell_type": "code",
   "execution_count": null,
   "id": "ac934f14",
   "metadata": {},
   "outputs": [],
   "source": []
  }
 ],
 "metadata": {
  "kernelspec": {
   "display_name": "Python 3",
   "language": "python",
   "name": "python3"
  },
  "language_info": {
   "codemirror_mode": {
    "name": "ipython",
    "version": 3
   },
   "file_extension": ".py",
   "mimetype": "text/x-python",
   "name": "python",
   "nbconvert_exporter": "python",
   "pygments_lexer": "ipython3",
   "version": "3.8.8"
  }
 },
 "nbformat": 4,
 "nbformat_minor": 5
}
